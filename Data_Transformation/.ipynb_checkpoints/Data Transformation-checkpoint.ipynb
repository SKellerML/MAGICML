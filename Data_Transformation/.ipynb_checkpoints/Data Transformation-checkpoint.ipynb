{
 "cells": [
  {
   "cell_type": "markdown",
   "metadata": {},
   "source": []
  },
  {
   "cell_type": "markdown",
   "metadata": {},
   "source": [
    "The file type to be read by the Machine Learning Code is as given:\n",
    "\n",
    "'particleID', 'energy', 'altitude', 'azimuth', 'core_x', 'core_y', 'h_first_int',\n",
    "'pointing_alt', 'pointing_az', 'pos_in_cam_x', 'pos_in_cam_y', 'event_tel_alt', 'event_tel_az'\n",
    "\n",
    "followed by the the pixel brightness M1, M2 and pixel peak time M1, M2. Ordered in Spiral from center clockwise outwards. Last columns should contain the minimum and maximum brightness values for this event.\n",
    "\n",
    "The follwing code can be used for conversion of SimTelArray simualtion files, Magic data and Magic Simulation files. Currently there are 3 different functions."
   ]
  },
  {
   "cell_type": "code",
   "execution_count": null,
   "metadata": {},
   "outputs": [],
   "source": [
    "#sys.path.insert(0, '../PT1')"
   ]
  },
  {
   "cell_type": "code",
   "execution_count": null,
   "metadata": {},
   "outputs": [],
   "source": []
  },
  {
   "cell_type": "markdown",
   "metadata": {},
   "source": [
    "# Transformation of SimTelArray/CTAPipe Files\n",
    "\n",
    "This function was most likely not updated to the current Version ouput file needed as I did use MARS Simulations. However, the basic structure should be quite similar to the other loading functions and should be copyable."
   ]
  },
  {
   "cell_type": "code",
   "execution_count": null,
   "metadata": {},
   "outputs": [],
   "source": [
    "import LoadCTAFile_MAGIC as lf"
   ]
  },
  {
   "cell_type": "code",
   "execution_count": null,
   "metadata": {},
   "outputs": [],
   "source": [
    "portery = lf.PortFiles(\"HEXAGONAL\", use_cut_value=50)\n",
    "portery.add_to_load_list(\"proton_20deg_174.681deg_run*___cta-prod4-lapalma-2158m--baseline_MAGIC-only.simtel.gz\",\n",
    "                         run_start_num = 0, run_end_num = 1510,  particleID = 1, \n",
    "                         filepath = \"/remote/ceph/group/magic/MAGIC-LST/Simulations/Simtelarray/Prod_2019_Yoshiki/proton/\",\n",
    "                         load_option=lf.LoadOption.raw_sim,\n",
    "                         calibrate=True)"
   ]
  },
  {
   "cell_type": "markdown",
   "metadata": {},
   "source": [
    "# Transformation of MAGIC MARS Simulation Files"
   ]
  },
  {
   "cell_type": "code",
   "execution_count": null,
   "metadata": {},
   "outputs": [],
   "source": [
    "import LoadMAGICFile as load_magic_sim"
   ]
  },
  {
   "cell_type": "code",
   "execution_count": null,
   "metadata": {},
   "outputs": [],
   "source": [
    "porteryp = load_magic_sim.PortFiles_2(use_cut_value=-1)\n",
    "porteryp.save_files_to_csv(\"../Data/PT4/proton_sim_diffuse_nonoise_tel_\", \n",
    "                           \"/remote/ishtardata/upload/Proton/Calibrated_NoNoise/M>/P_M>_za05to35_9_*_Y_w0.root\")"
   ]
  },
  {
   "cell_type": "markdown",
   "metadata": {},
   "source": [
    "# Transform MAGIC Data"
   ]
  },
  {
   "cell_type": "code",
   "execution_count": null,
   "metadata": {},
   "outputs": [],
   "source": [
    "import LoadCTAFile_MAGIC as load_magic_data"
   ]
  },
  {
   "cell_type": "code",
   "execution_count": null,
   "metadata": {},
   "outputs": [],
   "source": [
    "porteryp = load_magic_data.PortFiles(use_cut_value=-1, get_pedestals_only=True)\n",
    "porteryp.save_files_to_csv(\"/remote/ceph/user/s/skeller/dlfsss/201902*_M[1-2]_*.*_Y_ComaBerenice-W0.40+*.root\", \"/remote/ceph/user/s/skeller/Data/CB_Ped/CB_s2_feb_\", telescopes = set((1,2)),\n",
    "                          load_option=lf.LoadOption.cal_data )"
   ]
  }
 ],
 "metadata": {
  "kernelspec": {
   "display_name": "Python 3",
   "language": "python",
   "name": "python3"
  },
  "language_info": {
   "codemirror_mode": {
    "name": "ipython",
    "version": 3
   },
   "file_extension": ".py",
   "mimetype": "text/x-python",
   "name": "python",
   "nbconvert_exporter": "python",
   "pygments_lexer": "ipython3",
   "version": "3.7.5"
  }
 },
 "nbformat": 4,
 "nbformat_minor": 2
}
