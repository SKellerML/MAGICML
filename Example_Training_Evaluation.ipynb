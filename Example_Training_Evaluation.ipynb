{
 "cells": [
  {
   "cell_type": "code",
   "execution_count": 2,
   "metadata": {},
   "outputs": [
    {
     "data": {
      "text/plain": [
       "<module 'Network_Definitions' from '/home/iwsatlas1/skeller/MML_V1/Network_Definitions.py'>"
      ]
     },
     "execution_count": 2,
     "metadata": {},
     "output_type": "execute_result"
    }
   ],
   "source": [
    "import DataHandler\n",
    "import DataOption\n",
    "import DataProcessingFunction\n",
    "import Displayer\n",
    "import MagicDataset\n",
    "import MagicNet\n",
    "import Network_Definitions\n",
   ]
  },
  {
   "cell_type": "code",
   "execution_count": 3,
   "metadata": {},
   "outputs": [
    {
     "data": {
      "text/plain": [
       "'\\nThe four currently usable data options are:\\n\\n\\n\\nstereo_tot_sep = 15 # each telescope has 2 tensors with different tensors for timing and intensity\\nit_channel_sep = 20 # intensity and timing information in 2 sepearte tensors\\nchannel_stereo_comb_sep = 25 # intensity and timing information together but each telescope in seperate tensor\\nchannel_tot_comb = 30 # all combined in 1 tensor \\n\\n'"
      ]
     },
     "execution_count": 3,
     "metadata": {},
     "output_type": "execute_result"
    }
   ],
   "source": [
    "data_option = DataOption.channel_tot_comb\n",
    "'''\n",
    "The four currently usable data options are:\n",
    "\n",
    "\n",
    "\n",
    "stereo_tot_sep = 15 # each telescope has 2 tensors with different tensors for timing and intensity\n",
    "it_channel_sep = 20 # intensity and timing information in 2 sepearte tensors\n",
    "channel_stereo_comb_sep = 25 # intensity and timing information together but each telescope in seperate tensor\n",
    "channel_tot_comb = 30 # all combined in 1 tensor \n",
    "\n",
    "'''"
   ]
  },
  {
   "cell_type": "markdown",
   "metadata": {},
   "source": [
    "# Load Data"
   ]
  },
  {
   "cell_type": "code",
   "execution_count": 19,
   "metadata": {},
   "outputs": [
    {
     "name": "stdout",
     "output_type": "stream",
     "text": [
      "Index(['particleID', 'energy', 'altitude', 'azimuth', 'core_x', 'core_y',\n",
      "       'h_first_int', 'pointing_alt', 'pointing_az', 'pos_in_cam_x',\n",
      "       ...\n",
      "       'p_M2_1031', 'p_M2_1032', 'p_M2_1033', 'p_M2_1034', 'p_M2_1035',\n",
      "       'p_M2_1036', 'p_M2_1037', 'p_M2_1038', 'min_val', 'max_val'],\n",
      "      dtype='object', length=4171)\n",
      "Columns finished\n",
      "Loaded file  /remote/ceph/user/s/skeller/Data_3i/Gamma_MC/gamma_sim_diffuse_nonoise_tel_3i_0.csv\n",
      "Loaded file  /remote/ceph/user/s/skeller/Data_3i/Proton_MC/proton_sim_diffuse_nonoise_tel_3i_0.csv\n"
     ]
    }
   ],
   "source": [
    "# Set basic information for the handler, for classification leave regressor_columns at None\n",
    "dh = DataHandler.DataHandler(telescope_ids=set((1,2)),\n",
    "    data_option=data_option,\n",
    "    regressor_columns=['energy'],\n",
    "    time_channel=True,\n",
    "    pixnum=1039,\n",
    "    timing_info=True)\n",
    "# Add files to the handler without the file number .csv\n",
    "dh.add_files(max_files=1,\n",
    "             file_name=\"/remote/ceph/user/s/skeller/Data_3i/Gamma_MC/gamma_sim_diffuse_nonoise_tel_3i_\",\n",
    "              start_at_file = 0,\n",
    "            overwrite_particle_id=1)\n",
    "\n",
    "dh.add_files(max_files=1,\n",
    "             file_name=\"/remote/ceph/user/s/skeller/Data_3i/Proton_MC/proton_sim_diffuse_nonoise_tel_3i_\",\n",
    "              start_at_file = 0,\n",
    "            overwrite_particle_id=0)\n",
    "\n",
    "# Clip data by energy\n",
    "# dh.clip_by_energy(300,475)\n",
    "\n",
    "# Transform Data to range [0,1]\n",
    "dh.c_dataframe = dh.c_dataframe.apply(DataProcessingFunction.process_data4_i, axis=1, args = (dh.info_col_num, dh.pixnum)) # For data adjustment\n",
    "dh.c_dataframe = dh.c_dataframe.apply(DataProcessingFunction.process_data5, axis=1, args = [dh.info_col_num]) # For information Column adjustment"
   ]
  },
  {
   "cell_type": "markdown",
   "metadata": {},
   "source": [
    "# Data File Structure\n",
    "All data is loaded as .csv files with the following columns:\n",
    "\n",
    "'particleID', 'energy', 'altitude', 'azimuth', 'core_x', 'core_y', 'h_first_int', 'pointing_alt', 'pointing_az', 'pos_in_cam_x', 'pos_in_cam_y', 'event_tel_alt', 'event_tel_az'\n",
    "\n",
    "These columns contain the information of the simulation and telescope orientation. Furthermore one column for each pixel of each telescope first in brightness information then in timing. The last two columns min_val and max_val are only needed for transformed data and can be left empty.\n",
    "\n",
    "'i_M1_0', 'i_M1_1', 'i_M1_2', 'i_M1_3', 'i_M1_4', 'i_M1_5', 'i_M1_6', 'i_M1_7', 'i_M1_8', 'i_M1_9',\n",
    "       \n",
    "       ...\n",
    "       \n",
    "'i_M2_1030', 'i_M2_1031', 'i_M2_1032', 'i_M2_1033', 'i_M2_1034', 'i_M2_1035', 'i_M2_1036', 'i_M2_1037', 'i_M2_1038', 'p_M1_0', 'p_M1_1', 'p_M1_2', 'p_M1_3', 'p_M1_4', 'p_M1_5', 'p_M1_6', 'p_M1_7', 'p_M1_8',\n",
    "       \n",
    "       ...\n",
    "       \n",
    "'p_M2_1031', 'p_M2_1032', 'p_M2_1033', 'p_M2_1034', 'p_M2_1035', 'p_M2_1036', 'p_M2_1037', 'p_M2_1038', 'min_val', 'max_val'\n",
    "       \n"
   ]
  },
  {
   "cell_type": "code",
   "execution_count": 64,
   "metadata": {},
   "outputs": [
    {
     "data": {
      "text/plain": [
       "Index([  'particleID',       'energy',     'altitude',      'azimuth',\n",
       "             'core_x',       'core_y',  'h_first_int', 'pointing_alt',\n",
       "        'pointing_az', 'pos_in_cam_x',\n",
       "       ...\n",
       "          'p_M2_1031',    'p_M2_1032',    'p_M2_1033',    'p_M2_1034',\n",
       "          'p_M2_1035',    'p_M2_1036',    'p_M2_1037',    'p_M2_1038',\n",
       "                    0,              1],\n",
       "      dtype='object', length=4171)"
      ]
     },
     "execution_count": 64,
     "metadata": {},
     "output_type": "execute_result"
    }
   ],
   "source": [
    "dh.c_dataframe.columns"
   ]
  },
  {
   "cell_type": "code",
   "execution_count": 74,
   "metadata": {},
   "outputs": [
    {
     "data": {
      "text/plain": [
       "torch.Size([4, 1039])"
      ]
     },
     "execution_count": 74,
     "metadata": {},
     "output_type": "execute_result"
    }
   ],
   "source": [
    "dh.get_whole_dataset()[0]['image1'].shape"
   ]
  },
  {
   "cell_type": "code",
   "execution_count": 20,
   "metadata": {},
   "outputs": [
    {
     "data": {
      "text/html": [
       "<div>\n",
       "<style scoped>\n",
       "    .dataframe tbody tr th:only-of-type {\n",
       "        vertical-align: middle;\n",
       "    }\n",
       "\n",
       "    .dataframe tbody tr th {\n",
       "        vertical-align: top;\n",
       "    }\n",
       "\n",
       "    .dataframe thead th {\n",
       "        text-align: right;\n",
       "    }\n",
       "</style>\n",
       "<table border=\"1\" class=\"dataframe\">\n",
       "  <thead>\n",
       "    <tr style=\"text-align: right;\">\n",
       "      <th></th>\n",
       "      <th>particleID</th>\n",
       "      <th>energy</th>\n",
       "      <th>altitude</th>\n",
       "      <th>azimuth</th>\n",
       "      <th>core_x</th>\n",
       "      <th>core_y</th>\n",
       "      <th>h_first_int</th>\n",
       "      <th>pointing_alt</th>\n",
       "      <th>pointing_az</th>\n",
       "      <th>pos_in_cam_x</th>\n",
       "      <th>...</th>\n",
       "      <th>p_M2_1031</th>\n",
       "      <th>p_M2_1032</th>\n",
       "      <th>p_M2_1033</th>\n",
       "      <th>p_M2_1034</th>\n",
       "      <th>p_M2_1035</th>\n",
       "      <th>p_M2_1036</th>\n",
       "      <th>p_M2_1037</th>\n",
       "      <th>p_M2_1038</th>\n",
       "      <th>min_val</th>\n",
       "      <th>max_val</th>\n",
       "    </tr>\n",
       "  </thead>\n",
       "  <tbody>\n",
       "    <tr>\n",
       "      <td>10024</td>\n",
       "      <td>1.0</td>\n",
       "      <td>309.406952</td>\n",
       "      <td>124.172155</td>\n",
       "      <td>0.456645</td>\n",
       "      <td>0.475578</td>\n",
       "      <td>0.476077</td>\n",
       "      <td>0.279229</td>\n",
       "      <td>125.010833</td>\n",
       "      <td>0.459017</td>\n",
       "      <td>0.377263</td>\n",
       "      <td>...</td>\n",
       "      <td>0.023958</td>\n",
       "      <td>0.023958</td>\n",
       "      <td>0.023958</td>\n",
       "      <td>0.023958</td>\n",
       "      <td>0.023958</td>\n",
       "      <td>0.023958</td>\n",
       "      <td>0.365625</td>\n",
       "      <td>0.023958</td>\n",
       "      <td>0.0</td>\n",
       "      <td>72.00000</td>\n",
       "    </tr>\n",
       "    <tr>\n",
       "      <td>10067</td>\n",
       "      <td>1.0</td>\n",
       "      <td>301.187195</td>\n",
       "      <td>107.407262</td>\n",
       "      <td>0.116131</td>\n",
       "      <td>0.433034</td>\n",
       "      <td>0.466062</td>\n",
       "      <td>0.170987</td>\n",
       "      <td>108.368631</td>\n",
       "      <td>0.117153</td>\n",
       "      <td>0.350498</td>\n",
       "      <td>...</td>\n",
       "      <td>0.023958</td>\n",
       "      <td>0.023958</td>\n",
       "      <td>0.023958</td>\n",
       "      <td>0.023958</td>\n",
       "      <td>0.023958</td>\n",
       "      <td>0.023958</td>\n",
       "      <td>0.023958</td>\n",
       "      <td>0.023958</td>\n",
       "      <td>0.0</td>\n",
       "      <td>58.75000</td>\n",
       "    </tr>\n",
       "    <tr>\n",
       "      <td>10072</td>\n",
       "      <td>1.0</td>\n",
       "      <td>307.350677</td>\n",
       "      <td>106.884192</td>\n",
       "      <td>0.486075</td>\n",
       "      <td>0.492943</td>\n",
       "      <td>0.471082</td>\n",
       "      <td>0.348247</td>\n",
       "      <td>106.552303</td>\n",
       "      <td>0.481878</td>\n",
       "      <td>0.497653</td>\n",
       "      <td>...</td>\n",
       "      <td>0.023958</td>\n",
       "      <td>0.023958</td>\n",
       "      <td>0.023958</td>\n",
       "      <td>0.023958</td>\n",
       "      <td>0.023958</td>\n",
       "      <td>0.023958</td>\n",
       "      <td>0.023958</td>\n",
       "      <td>0.023958</td>\n",
       "      <td>0.0</td>\n",
       "      <td>45.37500</td>\n",
       "    </tr>\n",
       "    <tr>\n",
       "      <td>10078</td>\n",
       "      <td>1.0</td>\n",
       "      <td>306.045715</td>\n",
       "      <td>96.528755</td>\n",
       "      <td>0.952658</td>\n",
       "      <td>0.561379</td>\n",
       "      <td>0.605181</td>\n",
       "      <td>0.244928</td>\n",
       "      <td>94.622077</td>\n",
       "      <td>0.950321</td>\n",
       "      <td>0.784699</td>\n",
       "      <td>...</td>\n",
       "      <td>0.023958</td>\n",
       "      <td>0.023958</td>\n",
       "      <td>0.023958</td>\n",
       "      <td>0.023958</td>\n",
       "      <td>0.023958</td>\n",
       "      <td>0.023958</td>\n",
       "      <td>0.023958</td>\n",
       "      <td>0.023958</td>\n",
       "      <td>0.0</td>\n",
       "      <td>20.81250</td>\n",
       "    </tr>\n",
       "    <tr>\n",
       "      <td>10079</td>\n",
       "      <td>1.0</td>\n",
       "      <td>312.815552</td>\n",
       "      <td>107.442213</td>\n",
       "      <td>0.344019</td>\n",
       "      <td>0.578856</td>\n",
       "      <td>0.598847</td>\n",
       "      <td>0.210882</td>\n",
       "      <td>108.866875</td>\n",
       "      <td>0.341439</td>\n",
       "      <td>0.220080</td>\n",
       "      <td>...</td>\n",
       "      <td>0.023958</td>\n",
       "      <td>0.023958</td>\n",
       "      <td>0.023958</td>\n",
       "      <td>0.023958</td>\n",
       "      <td>0.023958</td>\n",
       "      <td>0.023958</td>\n",
       "      <td>0.023958</td>\n",
       "      <td>0.023958</td>\n",
       "      <td>0.0</td>\n",
       "      <td>20.50000</td>\n",
       "    </tr>\n",
       "    <tr>\n",
       "      <td>...</td>\n",
       "      <td>...</td>\n",
       "      <td>...</td>\n",
       "      <td>...</td>\n",
       "      <td>...</td>\n",
       "      <td>...</td>\n",
       "      <td>...</td>\n",
       "      <td>...</td>\n",
       "      <td>...</td>\n",
       "      <td>...</td>\n",
       "      <td>...</td>\n",
       "      <td>...</td>\n",
       "      <td>...</td>\n",
       "      <td>...</td>\n",
       "      <td>...</td>\n",
       "      <td>...</td>\n",
       "      <td>...</td>\n",
       "      <td>...</td>\n",
       "      <td>...</td>\n",
       "      <td>...</td>\n",
       "      <td>...</td>\n",
       "      <td>...</td>\n",
       "    </tr>\n",
       "    <tr>\n",
       "      <td>19866</td>\n",
       "      <td>1.0</td>\n",
       "      <td>308.120056</td>\n",
       "      <td>103.314974</td>\n",
       "      <td>0.298873</td>\n",
       "      <td>0.487553</td>\n",
       "      <td>0.379584</td>\n",
       "      <td>0.224053</td>\n",
       "      <td>103.333674</td>\n",
       "      <td>0.298584</td>\n",
       "      <td>0.492249</td>\n",
       "      <td>...</td>\n",
       "      <td>0.023958</td>\n",
       "      <td>0.023958</td>\n",
       "      <td>0.023958</td>\n",
       "      <td>0.023958</td>\n",
       "      <td>0.023958</td>\n",
       "      <td>0.023958</td>\n",
       "      <td>0.023958</td>\n",
       "      <td>0.023958</td>\n",
       "      <td>0.0</td>\n",
       "      <td>27.56250</td>\n",
       "    </tr>\n",
       "    <tr>\n",
       "      <td>19919</td>\n",
       "      <td>1.0</td>\n",
       "      <td>304.063507</td>\n",
       "      <td>95.257471</td>\n",
       "      <td>0.013490</td>\n",
       "      <td>0.497512</td>\n",
       "      <td>0.583806</td>\n",
       "      <td>0.224386</td>\n",
       "      <td>95.476139</td>\n",
       "      <td>0.006765</td>\n",
       "      <td>0.345393</td>\n",
       "      <td>...</td>\n",
       "      <td>0.023958</td>\n",
       "      <td>0.023958</td>\n",
       "      <td>0.023958</td>\n",
       "      <td>0.023958</td>\n",
       "      <td>0.023958</td>\n",
       "      <td>0.023958</td>\n",
       "      <td>0.023958</td>\n",
       "      <td>0.023958</td>\n",
       "      <td>0.0</td>\n",
       "      <td>49.12500</td>\n",
       "    </tr>\n",
       "    <tr>\n",
       "      <td>19932</td>\n",
       "      <td>1.0</td>\n",
       "      <td>313.420471</td>\n",
       "      <td>96.341359</td>\n",
       "      <td>0.342732</td>\n",
       "      <td>0.377371</td>\n",
       "      <td>0.434650</td>\n",
       "      <td>0.225943</td>\n",
       "      <td>95.137182</td>\n",
       "      <td>0.346527</td>\n",
       "      <td>0.776375</td>\n",
       "      <td>...</td>\n",
       "      <td>0.023958</td>\n",
       "      <td>0.023958</td>\n",
       "      <td>0.023958</td>\n",
       "      <td>0.023958</td>\n",
       "      <td>0.023958</td>\n",
       "      <td>0.023958</td>\n",
       "      <td>0.023958</td>\n",
       "      <td>0.023958</td>\n",
       "      <td>0.0</td>\n",
       "      <td>14.84375</td>\n",
       "    </tr>\n",
       "    <tr>\n",
       "      <td>19965</td>\n",
       "      <td>1.0</td>\n",
       "      <td>307.408875</td>\n",
       "      <td>90.592263</td>\n",
       "      <td>0.049210</td>\n",
       "      <td>0.393374</td>\n",
       "      <td>0.528406</td>\n",
       "      <td>0.208059</td>\n",
       "      <td>91.469881</td>\n",
       "      <td>0.051391</td>\n",
       "      <td>0.393942</td>\n",
       "      <td>...</td>\n",
       "      <td>0.023958</td>\n",
       "      <td>0.023958</td>\n",
       "      <td>0.023958</td>\n",
       "      <td>0.023958</td>\n",
       "      <td>0.023958</td>\n",
       "      <td>0.023958</td>\n",
       "      <td>0.023958</td>\n",
       "      <td>0.023958</td>\n",
       "      <td>0.0</td>\n",
       "      <td>74.25000</td>\n",
       "    </tr>\n",
       "    <tr>\n",
       "      <td>19998</td>\n",
       "      <td>1.0</td>\n",
       "      <td>307.072449</td>\n",
       "      <td>90.638668</td>\n",
       "      <td>0.588444</td>\n",
       "      <td>0.589989</td>\n",
       "      <td>0.508407</td>\n",
       "      <td>0.312460</td>\n",
       "      <td>91.579797</td>\n",
       "      <td>0.587439</td>\n",
       "      <td>0.319321</td>\n",
       "      <td>...</td>\n",
       "      <td>0.023958</td>\n",
       "      <td>0.023958</td>\n",
       "      <td>0.023958</td>\n",
       "      <td>0.023958</td>\n",
       "      <td>0.023958</td>\n",
       "      <td>0.023958</td>\n",
       "      <td>0.023958</td>\n",
       "      <td>0.023958</td>\n",
       "      <td>0.0</td>\n",
       "      <td>55.25000</td>\n",
       "    </tr>\n",
       "  </tbody>\n",
       "</table>\n",
       "<p>472 rows × 4171 columns</p>\n",
       "</div>"
      ],
      "text/plain": [
       "       particleID      energy    altitude   azimuth    core_x    core_y  \\\n",
       "10024         1.0  309.406952  124.172155  0.456645  0.475578  0.476077   \n",
       "10067         1.0  301.187195  107.407262  0.116131  0.433034  0.466062   \n",
       "10072         1.0  307.350677  106.884192  0.486075  0.492943  0.471082   \n",
       "10078         1.0  306.045715   96.528755  0.952658  0.561379  0.605181   \n",
       "10079         1.0  312.815552  107.442213  0.344019  0.578856  0.598847   \n",
       "...           ...         ...         ...       ...       ...       ...   \n",
       "19866         1.0  308.120056  103.314974  0.298873  0.487553  0.379584   \n",
       "19919         1.0  304.063507   95.257471  0.013490  0.497512  0.583806   \n",
       "19932         1.0  313.420471   96.341359  0.342732  0.377371  0.434650   \n",
       "19965         1.0  307.408875   90.592263  0.049210  0.393374  0.528406   \n",
       "19998         1.0  307.072449   90.638668  0.588444  0.589989  0.508407   \n",
       "\n",
       "       h_first_int  pointing_alt  pointing_az  pos_in_cam_x  ...  p_M2_1031  \\\n",
       "10024     0.279229    125.010833     0.459017      0.377263  ...   0.023958   \n",
       "10067     0.170987    108.368631     0.117153      0.350498  ...   0.023958   \n",
       "10072     0.348247    106.552303     0.481878      0.497653  ...   0.023958   \n",
       "10078     0.244928     94.622077     0.950321      0.784699  ...   0.023958   \n",
       "10079     0.210882    108.866875     0.341439      0.220080  ...   0.023958   \n",
       "...            ...           ...          ...           ...  ...        ...   \n",
       "19866     0.224053    103.333674     0.298584      0.492249  ...   0.023958   \n",
       "19919     0.224386     95.476139     0.006765      0.345393  ...   0.023958   \n",
       "19932     0.225943     95.137182     0.346527      0.776375  ...   0.023958   \n",
       "19965     0.208059     91.469881     0.051391      0.393942  ...   0.023958   \n",
       "19998     0.312460     91.579797     0.587439      0.319321  ...   0.023958   \n",
       "\n",
       "       p_M2_1032  p_M2_1033  p_M2_1034  p_M2_1035  p_M2_1036  p_M2_1037  \\\n",
       "10024   0.023958   0.023958   0.023958   0.023958   0.023958   0.365625   \n",
       "10067   0.023958   0.023958   0.023958   0.023958   0.023958   0.023958   \n",
       "10072   0.023958   0.023958   0.023958   0.023958   0.023958   0.023958   \n",
       "10078   0.023958   0.023958   0.023958   0.023958   0.023958   0.023958   \n",
       "10079   0.023958   0.023958   0.023958   0.023958   0.023958   0.023958   \n",
       "...          ...        ...        ...        ...        ...        ...   \n",
       "19866   0.023958   0.023958   0.023958   0.023958   0.023958   0.023958   \n",
       "19919   0.023958   0.023958   0.023958   0.023958   0.023958   0.023958   \n",
       "19932   0.023958   0.023958   0.023958   0.023958   0.023958   0.023958   \n",
       "19965   0.023958   0.023958   0.023958   0.023958   0.023958   0.023958   \n",
       "19998   0.023958   0.023958   0.023958   0.023958   0.023958   0.023958   \n",
       "\n",
       "       p_M2_1038  min_val   max_val  \n",
       "10024   0.023958      0.0  72.00000  \n",
       "10067   0.023958      0.0  58.75000  \n",
       "10072   0.023958      0.0  45.37500  \n",
       "10078   0.023958      0.0  20.81250  \n",
       "10079   0.023958      0.0  20.50000  \n",
       "...          ...      ...       ...  \n",
       "19866   0.023958      0.0  27.56250  \n",
       "19919   0.023958      0.0  49.12500  \n",
       "19932   0.023958      0.0  14.84375  \n",
       "19965   0.023958      0.0  74.25000  \n",
       "19998   0.023958      0.0  55.25000  \n",
       "\n",
       "[472 rows x 4171 columns]"
      ]
     },
     "execution_count": 20,
     "metadata": {},
     "output_type": "execute_result"
    }
   ],
   "source": [
    "# The Pandas Dataframe can be accessed directly\n",
    "dh.c_dataframe"
   ]
  },
  {
   "cell_type": "markdown",
   "metadata": {},
   "source": [
    "# Create network for regression tasks"
   ]
  },
  {
   "cell_type": "code",
   "execution_count": 15,
   "metadata": {},
   "outputs": [
    {
     "name": "stdout",
     "output_type": "stream",
     "text": [
      "Data split: Train:  2210  Test:  245\n",
      "cuda:0\n",
      "Data split: Train:  2210  Test:  245\n",
      "cuda:0\n"
     ]
    }
   ],
   "source": [
    "import torch\n",
    "device = torch.device(\"cuda:0\" if torch.cuda.is_available() else \"cpu\")\n",
    "# Select the network structure to be used\n",
    "cnet = Network_Definitions.HexNetDeep_dense1_it()\n",
    "# Define the optimizer to be used\n",
    "opti = torch.optim.Adam(cnet.parameters(), lr=0.000005)\n",
    "\n",
    "cnet = cnet.to(device)\n",
    "mn = MagicNet.MagicNet(dh, trainSplit=0.90, useNet = cnet, data_option=data_option, regressor_columns=[\"energy\"],\n",
    "                      remap=True)\n",
    "\n",
    "mn_class = MagicNet.MagicNet(dh, trainSplit=0.90, useNet = cnet, data_option=data_option,\n",
    "                      remap=True)"
   ]
  },
  {
   "cell_type": "markdown",
   "metadata": {},
   "source": [
    "# Train the Network"
   ]
  },
  {
   "cell_type": "code",
   "execution_count": null,
   "metadata": {},
   "outputs": [],
   "source": [
    "# To train the regressor\n",
    "mn.train_nn_regressor(learning_rate=0.000001,\n",
    "                      batch_size=2,\n",
    "                      epochs=3,\n",
    "                      outputbatchnumber=2000,\n",
    "                      optim = opti)\n",
    "\n"
   ]
  },
  {
   "cell_type": "code",
   "execution_count": 16,
   "metadata": {},
   "outputs": [
    {
     "name": "stdout",
     "output_type": "stream",
     "text": [
      "Weights:  tensor([1.0000, 1.1311])\n",
      "Correct:  244  Total:  244\n",
      "Accuracy of the network on the test images: 100.0\n",
      "Gammas classified as protons:  0.0\n",
      "Protons classified as gammas:  0.0\n",
      "Loss: 0.040347730219364164\n",
      "Correct:  0  Total:  244\n",
      "Accuracy of the network on the test images: 0.0\n",
      "Gammas classified as protons:  0.0\n",
      "Protons classified as gammas:  2.0\n",
      "Loss: 0.04556174635887146\n",
      "Finished Training, it took  1915.3226158618927  seconds\n",
      "Test Losslist:  [0.040347730219364164, 0.04556174635887146]\n"
     ]
    },
    {
     "data": {
      "text/plain": [
       "<MagicNet.TrainInfoObj at 0x7fc32db18278>"
      ]
     },
     "execution_count": 16,
     "metadata": {},
     "output_type": "execute_result"
    },
    {
     "data": {
      "image/png": "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\n",
      "text/plain": [
       "<Figure size 432x288 with 1 Axes>"
      ]
     },
     "metadata": {
      "needs_background": "light"
     },
     "output_type": "display_data"
    }
   ],
   "source": [
    "# To train a classifier\n",
    "mn_class.train_nn_classifier(learning_rate=0.000001,\n",
    "                      batch_size=2,\n",
    "                      epochs=2,\n",
    "                      outputbatchnumber=2000,\n",
    "                      optim = opti)\n",
    "# Train/test loss absolute values not comparable here, only the shape is relevant"
   ]
  },
  {
   "cell_type": "markdown",
   "metadata": {},
   "source": [
    "# Evaluate Regression Tasks"
   ]
  },
  {
   "cell_type": "code",
   "execution_count": null,
   "metadata": {},
   "outputs": [],
   "source": []
  },
  {
   "cell_type": "markdown",
   "metadata": {},
   "source": [
    "# Evaluate Classifier"
   ]
  },
  {
   "cell_type": "code",
   "execution_count": 18,
   "metadata": {},
   "outputs": [
    {
     "name": "stdout",
     "output_type": "stream",
     "text": [
      "Correct:  0  Total:  244\n",
      "Accuracy of the network on the test images: 0.0\n",
      "Gammas classified as protons:  0.0\n",
      "Protons classified as gammas:  2.0\n"
     ]
    },
    {
     "ename": "ValueError",
     "evalue": "Only one class present in y_true. ROC AUC score is not defined in that case.",
     "output_type": "error",
     "traceback": [
      "\u001b[0;31m---------------------------------------------------------------------------\u001b[0m",
      "\u001b[0;31mValueError\u001b[0m                                Traceback (most recent call last)",
      "\u001b[0;32m<ipython-input-18-021a243eb729>\u001b[0m in \u001b[0;36m<module>\u001b[0;34m\u001b[0m\n\u001b[0;32m----> 1\u001b[0;31m \u001b[0mmn\u001b[0m\u001b[0;34m.\u001b[0m\u001b[0mcreate_roc_classifier\u001b[0m\u001b[0;34m(\u001b[0m\u001b[0;34m)\u001b[0m\u001b[0;34m\u001b[0m\u001b[0;34m\u001b[0m\u001b[0m\n\u001b[0m",
      "\u001b[0;32m~/MML_V1/MagicNet.py\u001b[0m in \u001b[0;36mcreate_roc_classifier\u001b[0;34m(self, test_set, stereo)\u001b[0m\n\u001b[1;32m   1147\u001b[0m         fpr, tpr, thresholds = metrics.roc_curve(llist,\n\u001b[1;32m   1148\u001b[0m                                                  slist, )  # , pos_label=None, sample_weight=None, drop_intermediate=True)\n\u001b[0;32m-> 1149\u001b[0;31m         \u001b[0mauc\u001b[0m \u001b[0;34m=\u001b[0m \u001b[0mmetrics\u001b[0m\u001b[0;34m.\u001b[0m\u001b[0mroc_auc_score\u001b[0m\u001b[0;34m(\u001b[0m\u001b[0mllist\u001b[0m\u001b[0;34m,\u001b[0m \u001b[0mslist\u001b[0m\u001b[0;34m,\u001b[0m \u001b[0maverage\u001b[0m\u001b[0;34m=\u001b[0m\u001b[0;34m'macro'\u001b[0m\u001b[0;34m,\u001b[0m \u001b[0msample_weight\u001b[0m\u001b[0;34m=\u001b[0m\u001b[0;32mNone\u001b[0m\u001b[0;34m,\u001b[0m \u001b[0mmax_fpr\u001b[0m\u001b[0;34m=\u001b[0m\u001b[0;32mNone\u001b[0m\u001b[0;34m)\u001b[0m\u001b[0;34m\u001b[0m\u001b[0;34m\u001b[0m\u001b[0m\n\u001b[0m\u001b[1;32m   1150\u001b[0m         \u001b[0mprint\u001b[0m\u001b[0;34m(\u001b[0m\u001b[0;34m\"A: \"\u001b[0m\u001b[0;34m,\u001b[0m \u001b[0mauc\u001b[0m\u001b[0;34m)\u001b[0m\u001b[0;34m\u001b[0m\u001b[0;34m\u001b[0m\u001b[0m\n\u001b[1;32m   1151\u001b[0m         \u001b[0;31m# auc_score = metrics.roc_auc_score(llist, slist)\u001b[0m\u001b[0;34m\u001b[0m\u001b[0;34m\u001b[0m\u001b[0;34m\u001b[0m\u001b[0m\n",
      "\u001b[0;32m~/anaconda3/envs/PTCuda/lib/python3.6/site-packages/sklearn/metrics/ranking.py\u001b[0m in \u001b[0;36mroc_auc_score\u001b[0;34m(y_true, y_score, average, sample_weight, max_fpr)\u001b[0m\n\u001b[1;32m    353\u001b[0m     return _average_binary_score(\n\u001b[1;32m    354\u001b[0m         \u001b[0m_binary_roc_auc_score\u001b[0m\u001b[0;34m,\u001b[0m \u001b[0my_true\u001b[0m\u001b[0;34m,\u001b[0m \u001b[0my_score\u001b[0m\u001b[0;34m,\u001b[0m \u001b[0maverage\u001b[0m\u001b[0;34m,\u001b[0m\u001b[0;34m\u001b[0m\u001b[0;34m\u001b[0m\u001b[0m\n\u001b[0;32m--> 355\u001b[0;31m         sample_weight=sample_weight)\n\u001b[0m\u001b[1;32m    356\u001b[0m \u001b[0;34m\u001b[0m\u001b[0m\n\u001b[1;32m    357\u001b[0m \u001b[0;34m\u001b[0m\u001b[0m\n",
      "\u001b[0;32m~/anaconda3/envs/PTCuda/lib/python3.6/site-packages/sklearn/metrics/base.py\u001b[0m in \u001b[0;36m_average_binary_score\u001b[0;34m(binary_metric, y_true, y_score, average, sample_weight)\u001b[0m\n\u001b[1;32m     74\u001b[0m \u001b[0;34m\u001b[0m\u001b[0m\n\u001b[1;32m     75\u001b[0m     \u001b[0;32mif\u001b[0m \u001b[0my_type\u001b[0m \u001b[0;34m==\u001b[0m \u001b[0;34m\"binary\"\u001b[0m\u001b[0;34m:\u001b[0m\u001b[0;34m\u001b[0m\u001b[0;34m\u001b[0m\u001b[0m\n\u001b[0;32m---> 76\u001b[0;31m         \u001b[0;32mreturn\u001b[0m \u001b[0mbinary_metric\u001b[0m\u001b[0;34m(\u001b[0m\u001b[0my_true\u001b[0m\u001b[0;34m,\u001b[0m \u001b[0my_score\u001b[0m\u001b[0;34m,\u001b[0m \u001b[0msample_weight\u001b[0m\u001b[0;34m=\u001b[0m\u001b[0msample_weight\u001b[0m\u001b[0;34m)\u001b[0m\u001b[0;34m\u001b[0m\u001b[0;34m\u001b[0m\u001b[0m\n\u001b[0m\u001b[1;32m     77\u001b[0m \u001b[0;34m\u001b[0m\u001b[0m\n\u001b[1;32m     78\u001b[0m     \u001b[0mcheck_consistent_length\u001b[0m\u001b[0;34m(\u001b[0m\u001b[0my_true\u001b[0m\u001b[0;34m,\u001b[0m \u001b[0my_score\u001b[0m\u001b[0;34m,\u001b[0m \u001b[0msample_weight\u001b[0m\u001b[0;34m)\u001b[0m\u001b[0;34m\u001b[0m\u001b[0;34m\u001b[0m\u001b[0m\n",
      "\u001b[0;32m~/anaconda3/envs/PTCuda/lib/python3.6/site-packages/sklearn/metrics/ranking.py\u001b[0m in \u001b[0;36m_binary_roc_auc_score\u001b[0;34m(y_true, y_score, sample_weight)\u001b[0m\n\u001b[1;32m    321\u001b[0m     \u001b[0;32mdef\u001b[0m \u001b[0m_binary_roc_auc_score\u001b[0m\u001b[0;34m(\u001b[0m\u001b[0my_true\u001b[0m\u001b[0;34m,\u001b[0m \u001b[0my_score\u001b[0m\u001b[0;34m,\u001b[0m \u001b[0msample_weight\u001b[0m\u001b[0;34m=\u001b[0m\u001b[0;32mNone\u001b[0m\u001b[0;34m)\u001b[0m\u001b[0;34m:\u001b[0m\u001b[0;34m\u001b[0m\u001b[0;34m\u001b[0m\u001b[0m\n\u001b[1;32m    322\u001b[0m         \u001b[0;32mif\u001b[0m \u001b[0mlen\u001b[0m\u001b[0;34m(\u001b[0m\u001b[0mnp\u001b[0m\u001b[0;34m.\u001b[0m\u001b[0munique\u001b[0m\u001b[0;34m(\u001b[0m\u001b[0my_true\u001b[0m\u001b[0;34m)\u001b[0m\u001b[0;34m)\u001b[0m \u001b[0;34m!=\u001b[0m \u001b[0;36m2\u001b[0m\u001b[0;34m:\u001b[0m\u001b[0;34m\u001b[0m\u001b[0;34m\u001b[0m\u001b[0m\n\u001b[0;32m--> 323\u001b[0;31m             raise ValueError(\"Only one class present in y_true. ROC AUC score \"\n\u001b[0m\u001b[1;32m    324\u001b[0m                              \"is not defined in that case.\")\n\u001b[1;32m    325\u001b[0m \u001b[0;34m\u001b[0m\u001b[0m\n",
      "\u001b[0;31mValueError\u001b[0m: Only one class present in y_true. ROC AUC score is not defined in that case."
     ]
    }
   ],
   "source": [
    "mn.create_roc_classifier()"
   ]
  },
  {
   "cell_type": "code",
   "execution_count": null,
   "metadata": {},
   "outputs": [],
   "source": []
  },
  {
   "cell_type": "code",
   "execution_count": null,
   "metadata": {},
   "outputs": [],
   "source": []
  },
  {
   "cell_type": "code",
   "execution_count": null,
   "metadata": {},
   "outputs": [],
   "source": []
  },
  {
   "cell_type": "code",
   "execution_count": null,
   "metadata": {},
   "outputs": [],
   "source": []
  }
 ],
 "metadata": {
  "kernelspec": {
   "display_name": "Python 3",
   "language": "python",
   "name": "python3"
  },
  "language_info": {
   "codemirror_mode": {
    "name": "ipython",
    "version": 3
   },
   "file_extension": ".py",
   "mimetype": "text/x-python",
   "name": "python",
   "nbconvert_exporter": "python",
   "pygments_lexer": "ipython3",
   "version": "3.7.5"
  }
 },
 "nbformat": 4,
 "nbformat_minor": 2
}
